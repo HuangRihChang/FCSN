{
 "cells": [
  {
   "cell_type": "code",
   "execution_count": 1,
   "metadata": {},
   "outputs": [
    {
     "name": "stdout",
     "output_type": "stream",
     "text": [
      "Using cpu\n"
     ]
    }
   ],
   "source": [
    "from data_loader_new import get_loader\n",
    "from config import Config\n",
    "from solver import get_device, Solver\n",
    "from torch.utils.tensorboard import SummaryWriter\n",
    "\n",
    "device = get_device()\n",
    "train_config = Config()\n",
    "train_loader, test_loader = get_loader(video_type=\"summe\", split_index=0)\n",
    "train_config.lr = 1e-3\n",
    "train_config.n_epochs = 150"
   ]
  },
  {
   "cell_type": "code",
   "execution_count": 5,
   "metadata": {},
   "outputs": [
    {
     "data": {
      "text/plain": [
       "torch.Size([1, 320])"
      ]
     },
     "execution_count": 5,
     "metadata": {},
     "output_type": "execute_result"
    }
   ],
   "source": [
    "for batch in train_loader:\n",
    "    break\n",
    "batch[1].shape    "
   ]
  },
  {
   "cell_type": "code",
   "execution_count": null,
   "metadata": {},
   "outputs": [],
   "source": []
  },
  {
   "cell_type": "code",
   "execution_count": 2,
   "metadata": {},
   "outputs": [],
   "source": [
    "solver = Solver(train_config, train_loader, test_loader, device=device, optimizer=\"adam\", loss_reduction=\"mean\", eval_method=\"max\")\n",
    "writer = SummaryWriter()"
   ]
  },
  {
   "cell_type": "code",
   "execution_count": 3,
   "metadata": {},
   "outputs": [
    {
     "data": {
      "application/vnd.jupyter.widget-view+json": {
       "model_id": "c59a673695a64d788e6d7a8eec362a1a",
       "version_major": 2,
       "version_minor": 0
      },
      "text/plain": [
       "Epoch:   0%|          | 0/150 [00:00<?, ?it/s]"
      ]
     },
     "metadata": {},
     "output_type": "display_data"
    },
    {
     "data": {
      "application/vnd.jupyter.widget-view+json": {
       "model_id": "db16cb4340c448098b0a572b0dc7a1bd",
       "version_major": 2,
       "version_minor": 0
      },
      "text/plain": [
       "Batch:   0%|          | 0/20 [00:00<?, ?it/s]"
      ]
     },
     "metadata": {},
     "output_type": "display_data"
    },
    {
     "name": "stderr",
     "output_type": "stream",
     "text": [
      "/home/suong/miniconda3/lib/python3.9/site-packages/torch/nn/functional.py:682: UserWarning: Note that order of the arguments: ceil_mode and return_indices will changeto match the args list in nn.MaxPool1d in a future release.\n",
      "  warnings.warn(\"Note that order of the arguments: ceil_mode and return_indices will change\"\n"
     ]
    },
    {
     "data": {
      "application/vnd.jupyter.widget-view+json": {
       "model_id": "99a0aeee49ca4372888b425554a28c22",
       "version_major": 2,
       "version_minor": 0
      },
      "text/plain": [
       "Calculing F1:   0%|          | 0/20 [00:00<?, ?it/s]"
      ]
     },
     "metadata": {},
     "output_type": "display_data"
    },
    {
     "data": {
      "application/vnd.jupyter.widget-view+json": {
       "model_id": "e56862f4e34b4388a2ccded57fd6b169",
       "version_major": 2,
       "version_minor": 0
      },
      "text/plain": [
       "Evaluate:   0%|          | 0/5 [00:00<?, ?it/s]"
      ]
     },
     "metadata": {},
     "output_type": "display_data"
    },
    {
     "data": {
      "application/vnd.jupyter.widget-view+json": {
       "model_id": "4c93dc241adf4924a5284d18f2b973dd",
       "version_major": 2,
       "version_minor": 0
      },
      "text/plain": [
       "Batch:   0%|          | 0/20 [00:00<?, ?it/s]"
      ]
     },
     "metadata": {},
     "output_type": "display_data"
    },
    {
     "ename": "KeyboardInterrupt",
     "evalue": "",
     "output_type": "error",
     "traceback": [
      "\u001b[0;31m---------------------------------------------------------------------------\u001b[0m",
      "\u001b[0;31mKeyboardInterrupt\u001b[0m                         Traceback (most recent call last)",
      "\u001b[0;32m<ipython-input-3-c2fb122ec638>\u001b[0m in \u001b[0;36m<module>\u001b[0;34m\u001b[0m\n\u001b[0;32m----> 1\u001b[0;31m \u001b[0msolver\u001b[0m\u001b[0;34m.\u001b[0m\u001b[0mtrain\u001b[0m\u001b[0;34m(\u001b[0m\u001b[0mwriter\u001b[0m\u001b[0;34m,\u001b[0m \u001b[0mtrain_batch\u001b[0m\u001b[0;34m=\u001b[0m\u001b[0;36m5\u001b[0m\u001b[0;34m,\u001b[0m \u001b[0muse_weight\u001b[0m\u001b[0;34m=\u001b[0m\u001b[0;32mTrue\u001b[0m\u001b[0;34m)\u001b[0m\u001b[0;34m\u001b[0m\u001b[0;34m\u001b[0m\u001b[0m\n\u001b[0m",
      "\u001b[0;32m~/Documents/code/RESEARCH/HCMUS/Videosum/FCSN/FCSN/solver.py\u001b[0m in \u001b[0;36mtrain\u001b[0;34m(self, writer, train_batch, use_weight)\u001b[0m\n\u001b[1;32m    115\u001b[0m                 \u001b[0mt\u001b[0m\u001b[0;34m.\u001b[0m\u001b[0mset_postfix\u001b[0m\u001b[0;34m(\u001b[0m\u001b[0mmean_loss\u001b[0m\u001b[0;34m=\u001b[0m\u001b[0mmean_loss\u001b[0m\u001b[0;34m,\u001b[0m \u001b[0meval_mean_f1\u001b[0m\u001b[0;34m=\u001b[0m\u001b[0meval_mean\u001b[0m\u001b[0;34m,\u001b[0m \u001b[0mmean_train_f1\u001b[0m\u001b[0;34m=\u001b[0m\u001b[0mmean_train_f1\u001b[0m\u001b[0;34m,\u001b[0m \u001b[0mprediction_shape\u001b[0m \u001b[0;34m=\u001b[0m \u001b[0mpredict_shape\u001b[0m\u001b[0;34m)\u001b[0m\u001b[0;34m\u001b[0m\u001b[0;34m\u001b[0m\u001b[0m\n\u001b[1;32m    116\u001b[0m                 \u001b[0;32mif\u001b[0m \u001b[0mi\u001b[0m\u001b[0;34m%\u001b[0m\u001b[0mtrain_batch\u001b[0m \u001b[0;32mor\u001b[0m \u001b[0mi\u001b[0m\u001b[0;34m+\u001b[0m\u001b[0;36m1\u001b[0m \u001b[0;34m==\u001b[0m \u001b[0mlen\u001b[0m\u001b[0;34m(\u001b[0m\u001b[0mself\u001b[0m\u001b[0;34m.\u001b[0m\u001b[0mtrain_loader\u001b[0m\u001b[0;34m)\u001b[0m\u001b[0;34m:\u001b[0m\u001b[0;34m\u001b[0m\u001b[0;34m\u001b[0m\u001b[0m\n\u001b[0;32m--> 117\u001b[0;31m                     \u001b[0mself\u001b[0m\u001b[0;34m.\u001b[0m\u001b[0moptimizer\u001b[0m\u001b[0;34m.\u001b[0m\u001b[0mstep\u001b[0m\u001b[0;34m(\u001b[0m\u001b[0;34m)\u001b[0m\u001b[0;34m\u001b[0m\u001b[0;34m\u001b[0m\u001b[0m\n\u001b[0m\u001b[1;32m    118\u001b[0m                     \u001b[0mself\u001b[0m\u001b[0;34m.\u001b[0m\u001b[0moptimizer\u001b[0m\u001b[0;34m.\u001b[0m\u001b[0mzero_grad\u001b[0m\u001b[0;34m(\u001b[0m\u001b[0;34m)\u001b[0m\u001b[0;34m\u001b[0m\u001b[0;34m\u001b[0m\u001b[0m\n\u001b[1;32m    119\u001b[0m \u001b[0;34m\u001b[0m\u001b[0m\n",
      "\u001b[0;32m~/miniconda3/lib/python3.9/site-packages/torch/optim/optimizer.py\u001b[0m in \u001b[0;36mwrapper\u001b[0;34m(*args, **kwargs)\u001b[0m\n\u001b[1;32m     86\u001b[0m                 \u001b[0mprofile_name\u001b[0m \u001b[0;34m=\u001b[0m \u001b[0;34m\"Optimizer.step#{}.step\"\u001b[0m\u001b[0;34m.\u001b[0m\u001b[0mformat\u001b[0m\u001b[0;34m(\u001b[0m\u001b[0mobj\u001b[0m\u001b[0;34m.\u001b[0m\u001b[0m__class__\u001b[0m\u001b[0;34m.\u001b[0m\u001b[0m__name__\u001b[0m\u001b[0;34m)\u001b[0m\u001b[0;34m\u001b[0m\u001b[0;34m\u001b[0m\u001b[0m\n\u001b[1;32m     87\u001b[0m                 \u001b[0;32mwith\u001b[0m \u001b[0mtorch\u001b[0m\u001b[0;34m.\u001b[0m\u001b[0mautograd\u001b[0m\u001b[0;34m.\u001b[0m\u001b[0mprofiler\u001b[0m\u001b[0;34m.\u001b[0m\u001b[0mrecord_function\u001b[0m\u001b[0;34m(\u001b[0m\u001b[0mprofile_name\u001b[0m\u001b[0;34m)\u001b[0m\u001b[0;34m:\u001b[0m\u001b[0;34m\u001b[0m\u001b[0;34m\u001b[0m\u001b[0m\n\u001b[0;32m---> 88\u001b[0;31m                     \u001b[0;32mreturn\u001b[0m \u001b[0mfunc\u001b[0m\u001b[0;34m(\u001b[0m\u001b[0;34m*\u001b[0m\u001b[0margs\u001b[0m\u001b[0;34m,\u001b[0m \u001b[0;34m**\u001b[0m\u001b[0mkwargs\u001b[0m\u001b[0;34m)\u001b[0m\u001b[0;34m\u001b[0m\u001b[0;34m\u001b[0m\u001b[0m\n\u001b[0m\u001b[1;32m     89\u001b[0m             \u001b[0;32mreturn\u001b[0m \u001b[0mwrapper\u001b[0m\u001b[0;34m\u001b[0m\u001b[0;34m\u001b[0m\u001b[0m\n\u001b[1;32m     90\u001b[0m \u001b[0;34m\u001b[0m\u001b[0m\n",
      "\u001b[0;32m~/miniconda3/lib/python3.9/site-packages/torch/autograd/grad_mode.py\u001b[0m in \u001b[0;36mdecorate_context\u001b[0;34m(*args, **kwargs)\u001b[0m\n\u001b[1;32m     25\u001b[0m         \u001b[0;32mdef\u001b[0m \u001b[0mdecorate_context\u001b[0m\u001b[0;34m(\u001b[0m\u001b[0;34m*\u001b[0m\u001b[0margs\u001b[0m\u001b[0;34m,\u001b[0m \u001b[0;34m**\u001b[0m\u001b[0mkwargs\u001b[0m\u001b[0;34m)\u001b[0m\u001b[0;34m:\u001b[0m\u001b[0;34m\u001b[0m\u001b[0;34m\u001b[0m\u001b[0m\n\u001b[1;32m     26\u001b[0m             \u001b[0;32mwith\u001b[0m \u001b[0mself\u001b[0m\u001b[0;34m.\u001b[0m\u001b[0mclone\u001b[0m\u001b[0;34m(\u001b[0m\u001b[0;34m)\u001b[0m\u001b[0;34m:\u001b[0m\u001b[0;34m\u001b[0m\u001b[0;34m\u001b[0m\u001b[0m\n\u001b[0;32m---> 27\u001b[0;31m                 \u001b[0;32mreturn\u001b[0m \u001b[0mfunc\u001b[0m\u001b[0;34m(\u001b[0m\u001b[0;34m*\u001b[0m\u001b[0margs\u001b[0m\u001b[0;34m,\u001b[0m \u001b[0;34m**\u001b[0m\u001b[0mkwargs\u001b[0m\u001b[0;34m)\u001b[0m\u001b[0;34m\u001b[0m\u001b[0;34m\u001b[0m\u001b[0m\n\u001b[0m\u001b[1;32m     28\u001b[0m         \u001b[0;32mreturn\u001b[0m \u001b[0mcast\u001b[0m\u001b[0;34m(\u001b[0m\u001b[0mF\u001b[0m\u001b[0;34m,\u001b[0m \u001b[0mdecorate_context\u001b[0m\u001b[0;34m)\u001b[0m\u001b[0;34m\u001b[0m\u001b[0;34m\u001b[0m\u001b[0m\n\u001b[1;32m     29\u001b[0m \u001b[0;34m\u001b[0m\u001b[0m\n",
      "\u001b[0;32m~/miniconda3/lib/python3.9/site-packages/torch/optim/adam.py\u001b[0m in \u001b[0;36mstep\u001b[0;34m(self, closure)\u001b[0m\n\u001b[1;32m    139\u001b[0m                     \u001b[0mstate_steps\u001b[0m\u001b[0;34m.\u001b[0m\u001b[0mappend\u001b[0m\u001b[0;34m(\u001b[0m\u001b[0mstate\u001b[0m\u001b[0;34m[\u001b[0m\u001b[0;34m'step'\u001b[0m\u001b[0;34m]\u001b[0m\u001b[0;34m)\u001b[0m\u001b[0;34m\u001b[0m\u001b[0;34m\u001b[0m\u001b[0m\n\u001b[1;32m    140\u001b[0m \u001b[0;34m\u001b[0m\u001b[0m\n\u001b[0;32m--> 141\u001b[0;31m             F.adam(params_with_grad,\n\u001b[0m\u001b[1;32m    142\u001b[0m                    \u001b[0mgrads\u001b[0m\u001b[0;34m,\u001b[0m\u001b[0;34m\u001b[0m\u001b[0;34m\u001b[0m\u001b[0m\n\u001b[1;32m    143\u001b[0m                    \u001b[0mexp_avgs\u001b[0m\u001b[0;34m,\u001b[0m\u001b[0;34m\u001b[0m\u001b[0;34m\u001b[0m\u001b[0m\n",
      "\u001b[0;32m~/miniconda3/lib/python3.9/site-packages/torch/optim/_functional.py\u001b[0m in \u001b[0;36madam\u001b[0;34m(params, grads, exp_avgs, exp_avg_sqs, max_exp_avg_sqs, state_steps, amsgrad, beta1, beta2, lr, weight_decay, eps, maximize)\u001b[0m\n\u001b[1;32m    108\u001b[0m \u001b[0;34m\u001b[0m\u001b[0m\n\u001b[1;32m    109\u001b[0m         \u001b[0mstep_size\u001b[0m \u001b[0;34m=\u001b[0m \u001b[0mlr\u001b[0m \u001b[0;34m/\u001b[0m \u001b[0mbias_correction1\u001b[0m\u001b[0;34m\u001b[0m\u001b[0;34m\u001b[0m\u001b[0m\n\u001b[0;32m--> 110\u001b[0;31m         \u001b[0mparam\u001b[0m\u001b[0;34m.\u001b[0m\u001b[0maddcdiv_\u001b[0m\u001b[0;34m(\u001b[0m\u001b[0mexp_avg\u001b[0m\u001b[0;34m,\u001b[0m \u001b[0mdenom\u001b[0m\u001b[0;34m,\u001b[0m \u001b[0mvalue\u001b[0m\u001b[0;34m=\u001b[0m\u001b[0;34m-\u001b[0m\u001b[0mstep_size\u001b[0m\u001b[0;34m)\u001b[0m\u001b[0;34m\u001b[0m\u001b[0;34m\u001b[0m\u001b[0m\n\u001b[0m\u001b[1;32m    111\u001b[0m \u001b[0;34m\u001b[0m\u001b[0m\n\u001b[1;32m    112\u001b[0m def adamw(params: List[Tensor],\n",
      "\u001b[0;31mKeyboardInterrupt\u001b[0m: "
     ]
    }
   ],
   "source": [
    "solver.train(writer, train_batch=5, use_weight=True)"
   ]
  },
  {
   "cell_type": "code",
   "execution_count": 15,
   "metadata": {},
   "outputs": [
    {
     "name": "stdout",
     "output_type": "stream",
     "text": [
      "video_1\n",
      "{'change_points': <HDF5 dataset \"change_points\": shape (30, 2), type \"<i8\">, 'feature': <HDF5 dataset \"feature\": shape (320, 1024), type \"<f4\">, 'label': <HDF5 dataset \"label\": shape (320,), type \"<f8\">, 'length': <HDF5 dataset \"length\": shape (), type \"<i8\">, 'n_frame_per_seg': <HDF5 dataset \"n_frame_per_seg\": shape (30,), type \"<i8\">, 'picks': <HDF5 dataset \"picks\": shape (320,), type \"<i8\">, 'user_summary': <HDF5 dataset \"user_summary\": shape (15, 4494), type \"<f4\">}\n",
      "video_10\n",
      "{'change_points': <HDF5 dataset \"change_points\": shape (65, 2), type \"<i8\">, 'feature': <HDF5 dataset \"feature\": shape (320, 1024), type \"<f4\">, 'label': <HDF5 dataset \"label\": shape (320,), type \"<f8\">, 'length': <HDF5 dataset \"length\": shape (), type \"<i8\">, 'n_frame_per_seg': <HDF5 dataset \"n_frame_per_seg\": shape (65,), type \"<i8\">, 'picks': <HDF5 dataset \"picks\": shape (320,), type \"<i8\">, 'user_summary': <HDF5 dataset \"user_summary\": shape (15, 9721), type \"<f4\">}\n",
      "video_11\n",
      "{'change_points': <HDF5 dataset \"change_points\": shape (11, 2), type \"<i8\">, 'feature': <HDF5 dataset \"feature\": shape (320, 1024), type \"<f4\">, 'label': <HDF5 dataset \"label\": shape (320,), type \"<f8\">, 'length': <HDF5 dataset \"length\": shape (), type \"<i8\">, 'n_frame_per_seg': <HDF5 dataset \"n_frame_per_seg\": shape (11,), type \"<i8\">, 'picks': <HDF5 dataset \"picks\": shape (320,), type \"<i8\">, 'user_summary': <HDF5 dataset \"user_summary\": shape (15, 1612), type \"<f4\">}\n",
      "video_12\n",
      "{'change_points': <HDF5 dataset \"change_points\": shape (7, 2), type \"<i8\">, 'feature': <HDF5 dataset \"feature\": shape (320, 1024), type \"<f4\">, 'label': <HDF5 dataset \"label\": shape (320,), type \"<f8\">, 'length': <HDF5 dataset \"length\": shape (), type \"<i8\">, 'n_frame_per_seg': <HDF5 dataset \"n_frame_per_seg\": shape (7,), type \"<i8\">, 'picks': <HDF5 dataset \"picks\": shape (320,), type \"<i8\">, 'user_summary': <HDF5 dataset \"user_summary\": shape (15, 950), type \"<f4\">}\n",
      "video_13\n",
      "{'change_points': <HDF5 dataset \"change_points\": shape (22, 2), type \"<i8\">, 'feature': <HDF5 dataset \"feature\": shape (320, 1024), type \"<f4\">, 'label': <HDF5 dataset \"label\": shape (320,), type \"<f8\">, 'length': <HDF5 dataset \"length\": shape (), type \"<i8\">, 'n_frame_per_seg': <HDF5 dataset \"n_frame_per_seg\": shape (22,), type \"<i8\">, 'picks': <HDF5 dataset \"picks\": shape (320,), type \"<i8\">, 'user_summary': <HDF5 dataset \"user_summary\": shape (15, 3187), type \"<f4\">}\n",
      "video_14\n",
      "{'change_points': <HDF5 dataset \"change_points\": shape (31, 2), type \"<i8\">, 'feature': <HDF5 dataset \"feature\": shape (320, 1024), type \"<f4\">, 'label': <HDF5 dataset \"label\": shape (320,), type \"<f8\">, 'length': <HDF5 dataset \"length\": shape (), type \"<i8\">, 'n_frame_per_seg': <HDF5 dataset \"n_frame_per_seg\": shape (31,), type \"<i8\">, 'picks': <HDF5 dataset \"picks\": shape (320,), type \"<i8\">, 'user_summary': <HDF5 dataset \"user_summary\": shape (15, 4608), type \"<f4\">}\n",
      "video_15\n",
      "{'change_points': <HDF5 dataset \"change_points\": shape (41, 2), type \"<i8\">, 'feature': <HDF5 dataset \"feature\": shape (320, 1024), type \"<f4\">, 'label': <HDF5 dataset \"label\": shape (320,), type \"<f8\">, 'length': <HDF5 dataset \"length\": shape (), type \"<i8\">, 'n_frame_per_seg': <HDF5 dataset \"n_frame_per_seg\": shape (41,), type \"<i8\">, 'picks': <HDF5 dataset \"picks\": shape (320,), type \"<i8\">, 'user_summary': <HDF5 dataset \"user_summary\": shape (17, 6096), type \"<f4\">}\n",
      "video_16\n",
      "{'change_points': <HDF5 dataset \"change_points\": shape (21, 2), type \"<i8\">, 'feature': <HDF5 dataset \"feature\": shape (320, 1024), type \"<f4\">, 'label': <HDF5 dataset \"label\": shape (320,), type \"<f8\">, 'length': <HDF5 dataset \"length\": shape (), type \"<i8\">, 'n_frame_per_seg': <HDF5 dataset \"n_frame_per_seg\": shape (21,), type \"<i8\">, 'picks': <HDF5 dataset \"picks\": shape (320,), type \"<i8\">, 'user_summary': <HDF5 dataset \"user_summary\": shape (15, 3065), type \"<f4\">}\n",
      "video_17\n",
      "{'change_points': <HDF5 dataset \"change_points\": shape (45, 2), type \"<i8\">, 'feature': <HDF5 dataset \"feature\": shape (320, 1024), type \"<f4\">, 'label': <HDF5 dataset \"label\": shape (320,), type \"<f8\">, 'length': <HDF5 dataset \"length\": shape (), type \"<i8\">, 'n_frame_per_seg': <HDF5 dataset \"n_frame_per_seg\": shape (45,), type \"<i8\">, 'picks': <HDF5 dataset \"picks\": shape (320,), type \"<i8\">, 'user_summary': <HDF5 dataset \"user_summary\": shape (15, 6683), type \"<f4\">}\n",
      "video_18\n",
      "{'change_points': <HDF5 dataset \"change_points\": shape (15, 2), type \"<i8\">, 'feature': <HDF5 dataset \"feature\": shape (320, 1024), type \"<f4\">, 'label': <HDF5 dataset \"label\": shape (320,), type \"<f8\">, 'length': <HDF5 dataset \"length\": shape (), type \"<i8\">, 'n_frame_per_seg': <HDF5 dataset \"n_frame_per_seg\": shape (15,), type \"<i8\">, 'picks': <HDF5 dataset \"picks\": shape (320,), type \"<i8\">, 'user_summary': <HDF5 dataset \"user_summary\": shape (17, 2221), type \"<f4\">}\n",
      "video_19\n",
      "{'change_points': <HDF5 dataset \"change_points\": shape (12, 2), type \"<i8\">, 'feature': <HDF5 dataset \"feature\": shape (320, 1024), type \"<f4\">, 'label': <HDF5 dataset \"label\": shape (320,), type \"<f8\">, 'length': <HDF5 dataset \"length\": shape (), type \"<i8\">, 'n_frame_per_seg': <HDF5 dataset \"n_frame_per_seg\": shape (12,), type \"<i8\">, 'picks': <HDF5 dataset \"picks\": shape (320,), type \"<i8\">, 'user_summary': <HDF5 dataset \"user_summary\": shape (17, 1751), type \"<f4\">}\n",
      "video_2\n",
      "{'change_points': <HDF5 dataset \"change_points\": shape (32, 2), type \"<i8\">, 'feature': <HDF5 dataset \"feature\": shape (320, 1024), type \"<f4\">, 'label': <HDF5 dataset \"label\": shape (320,), type \"<f8\">, 'length': <HDF5 dataset \"length\": shape (), type \"<i8\">, 'n_frame_per_seg': <HDF5 dataset \"n_frame_per_seg\": shape (32,), type \"<i8\">, 'picks': <HDF5 dataset \"picks\": shape (320,), type \"<i8\">, 'user_summary': <HDF5 dataset \"user_summary\": shape (18, 4729), type \"<f4\">}\n",
      "video_20\n",
      "{'change_points': <HDF5 dataset \"change_points\": shape (26, 2), type \"<i8\">, 'feature': <HDF5 dataset \"feature\": shape (320, 1024), type \"<f4\">, 'label': <HDF5 dataset \"label\": shape (320,), type \"<f8\">, 'length': <HDF5 dataset \"length\": shape (), type \"<i8\">, 'n_frame_per_seg': <HDF5 dataset \"n_frame_per_seg\": shape (26,), type \"<i8\">, 'picks': <HDF5 dataset \"picks\": shape (320,), type \"<i8\">, 'user_summary': <HDF5 dataset \"user_summary\": shape (17, 3863), type \"<f4\">}\n",
      "video_21\n",
      "{'change_points': <HDF5 dataset \"change_points\": shape (65, 2), type \"<i8\">, 'feature': <HDF5 dataset \"feature\": shape (320, 1024), type \"<f4\">, 'label': <HDF5 dataset \"label\": shape (320,), type \"<f8\">, 'length': <HDF5 dataset \"length\": shape (), type \"<i8\">, 'n_frame_per_seg': <HDF5 dataset \"n_frame_per_seg\": shape (65,), type \"<i8\">, 'picks': <HDF5 dataset \"picks\": shape (320,), type \"<i8\">, 'user_summary': <HDF5 dataset \"user_summary\": shape (15, 9672), type \"<f4\">}\n",
      "video_22\n",
      "{'change_points': <HDF5 dataset \"change_points\": shape (35, 2), type \"<i8\">, 'feature': <HDF5 dataset \"feature\": shape (320, 1024), type \"<f4\">, 'label': <HDF5 dataset \"label\": shape (320,), type \"<f8\">, 'length': <HDF5 dataset \"length\": shape (), type \"<i8\">, 'n_frame_per_seg': <HDF5 dataset \"n_frame_per_seg\": shape (35,), type \"<i8\">, 'picks': <HDF5 dataset \"picks\": shape (320,), type \"<i8\">, 'user_summary': <HDF5 dataset \"user_summary\": shape (15, 5178), type \"<f4\">}\n",
      "video_23\n",
      "{'change_points': <HDF5 dataset \"change_points\": shape (30, 2), type \"<i8\">, 'feature': <HDF5 dataset \"feature\": shape (320, 1024), type \"<f4\">, 'label': <HDF5 dataset \"label\": shape (320,), type \"<f8\">, 'length': <HDF5 dataset \"length\": shape (), type \"<i8\">, 'n_frame_per_seg': <HDF5 dataset \"n_frame_per_seg\": shape (30,), type \"<i8\">, 'picks': <HDF5 dataset \"picks\": shape (320,), type \"<i8\">, 'user_summary': <HDF5 dataset \"user_summary\": shape (15, 4382), type \"<f4\">}\n",
      "video_24\n",
      "{'change_points': <HDF5 dataset \"change_points\": shape (18, 2), type \"<i8\">, 'feature': <HDF5 dataset \"feature\": shape (320, 1024), type \"<f4\">, 'label': <HDF5 dataset \"label\": shape (320,), type \"<f8\">, 'length': <HDF5 dataset \"length\": shape (), type \"<i8\">, 'n_frame_per_seg': <HDF5 dataset \"n_frame_per_seg\": shape (18,), type \"<i8\">, 'picks': <HDF5 dataset \"picks\": shape (320,), type \"<i8\">, 'user_summary': <HDF5 dataset \"user_summary\": shape (15, 2574), type \"<f4\">}\n",
      "video_25\n",
      "{'change_points': <HDF5 dataset \"change_points\": shape (21, 2), type \"<i8\">, 'feature': <HDF5 dataset \"feature\": shape (320, 1024), type \"<f4\">, 'label': <HDF5 dataset \"label\": shape (320,), type \"<f8\">, 'length': <HDF5 dataset \"length\": shape (), type \"<i8\">, 'n_frame_per_seg': <HDF5 dataset \"n_frame_per_seg\": shape (21,), type \"<i8\">, 'picks': <HDF5 dataset \"picks\": shape (320,), type \"<i8\">, 'user_summary': <HDF5 dataset \"user_summary\": shape (16, 3120), type \"<f4\">}\n",
      "video_3\n",
      "{'change_points': <HDF5 dataset \"change_points\": shape (23, 2), type \"<i8\">, 'feature': <HDF5 dataset \"feature\": shape (320, 1024), type \"<f4\">, 'label': <HDF5 dataset \"label\": shape (320,), type \"<f8\">, 'length': <HDF5 dataset \"length\": shape (), type \"<i8\">, 'n_frame_per_seg': <HDF5 dataset \"n_frame_per_seg\": shape (23,), type \"<i8\">, 'picks': <HDF5 dataset \"picks\": shape (320,), type \"<i8\">, 'user_summary': <HDF5 dataset \"user_summary\": shape (15, 3341), type \"<f4\">}\n",
      "video_4\n",
      "{'change_points': <HDF5 dataset \"change_points\": shape (21, 2), type \"<i8\">, 'feature': <HDF5 dataset \"feature\": shape (320, 1024), type \"<f4\">, 'label': <HDF5 dataset \"label\": shape (320,), type \"<f8\">, 'length': <HDF5 dataset \"length\": shape (), type \"<i8\">, 'n_frame_per_seg': <HDF5 dataset \"n_frame_per_seg\": shape (21,), type \"<i8\">, 'picks': <HDF5 dataset \"picks\": shape (320,), type \"<i8\">, 'user_summary': <HDF5 dataset \"user_summary\": shape (15, 3064), type \"<f4\">}\n",
      "video_5\n",
      "{'change_points': <HDF5 dataset \"change_points\": shape (35, 2), type \"<i8\">, 'feature': <HDF5 dataset \"feature\": shape (320, 1024), type \"<f4\">, 'label': <HDF5 dataset \"label\": shape (320,), type \"<f8\">, 'length': <HDF5 dataset \"length\": shape (), type \"<i8\">, 'n_frame_per_seg': <HDF5 dataset \"n_frame_per_seg\": shape (35,), type \"<i8\">, 'picks': <HDF5 dataset \"picks\": shape (320,), type \"<i8\">, 'user_summary': <HDF5 dataset \"user_summary\": shape (15, 5131), type \"<f4\">}\n",
      "video_6\n",
      "{'change_points': <HDF5 dataset \"change_points\": shape (34, 2), type \"<i8\">, 'feature': <HDF5 dataset \"feature\": shape (320, 1024), type \"<f4\">, 'label': <HDF5 dataset \"label\": shape (320,), type \"<f8\">, 'length': <HDF5 dataset \"length\": shape (), type \"<i8\">, 'n_frame_per_seg': <HDF5 dataset \"n_frame_per_seg\": shape (34,), type \"<i8\">, 'picks': <HDF5 dataset \"picks\": shape (320,), type \"<i8\">, 'user_summary': <HDF5 dataset \"user_summary\": shape (16, 5075), type \"<f4\">}\n",
      "video_7\n",
      "{'change_points': <HDF5 dataset \"change_points\": shape (61, 2), type \"<i8\">, 'feature': <HDF5 dataset \"feature\": shape (320, 1024), type \"<f4\">, 'label': <HDF5 dataset \"label\": shape (320,), type \"<f8\">, 'length': <HDF5 dataset \"length\": shape (), type \"<i8\">, 'n_frame_per_seg': <HDF5 dataset \"n_frame_per_seg\": shape (61,), type \"<i8\">, 'picks': <HDF5 dataset \"picks\": shape (320,), type \"<i8\">, 'user_summary': <HDF5 dataset \"user_summary\": shape (15, 9046), type \"<f4\">}\n",
      "video_8\n",
      "{'change_points': <HDF5 dataset \"change_points\": shape (9, 2), type \"<i8\">, 'feature': <HDF5 dataset \"feature\": shape (320, 1024), type \"<f4\">, 'label': <HDF5 dataset \"label\": shape (320,), type \"<f8\">, 'length': <HDF5 dataset \"length\": shape (), type \"<i8\">, 'n_frame_per_seg': <HDF5 dataset \"n_frame_per_seg\": shape (9,), type \"<i8\">, 'picks': <HDF5 dataset \"picks\": shape (320,), type \"<i8\">, 'user_summary': <HDF5 dataset \"user_summary\": shape (17, 1286), type \"<f4\">}\n",
      "video_9\n",
      "{'change_points': <HDF5 dataset \"change_points\": shape (34, 2), type \"<i8\">, 'feature': <HDF5 dataset \"feature\": shape (320, 1024), type \"<f4\">, 'label': <HDF5 dataset \"label\": shape (320,), type \"<f8\">, 'length': <HDF5 dataset \"length\": shape (), type \"<i8\">, 'n_frame_per_seg': <HDF5 dataset \"n_frame_per_seg\": shape (34,), type \"<i8\">, 'picks': <HDF5 dataset \"picks\": shape (320,), type \"<i8\">, 'user_summary': <HDF5 dataset \"user_summary\": shape (15, 4971), type \"<f4\">}\n"
     ]
    }
   ],
   "source": [
    "# data_file = h5py.File(\"./data/SumMe/fcsn_summe.h5\")\n",
    "# for i in data_file:\n",
    "#     print(str(i))\n",
    "#     print(dict(data_file[str(i)]))\n",
    "#     # data_file[str(i)][\"video_name\"][()]"
   ]
  }
 ],
 "metadata": {
  "interpreter": {
   "hash": "c16d26dcc6bd2940569404d6072e3dba263608c5350ed75a30cef2c781b8b930"
  },
  "kernelspec": {
   "display_name": "Python 3.8.13 ('cv')",
   "language": "python",
   "name": "python3"
  },
  "language_info": {
   "codemirror_mode": {
    "name": "ipython",
    "version": 3
   },
   "file_extension": ".py",
   "mimetype": "text/x-python",
   "name": "python",
   "nbconvert_exporter": "python",
   "pygments_lexer": "ipython3",
   "version": "3.9.1"
  },
  "orig_nbformat": 4
 },
 "nbformat": 4,
 "nbformat_minor": 2
}
